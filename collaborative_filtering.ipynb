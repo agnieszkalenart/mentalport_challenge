{
 "cells": [
  {
   "cell_type": "code",
   "execution_count": 58,
   "metadata": {},
   "outputs": [],
   "source": [
    "import pandas as pd\n",
    "import numpy as np\n",
    "import json\n",
    "import ast\n",
    "pd.set_option('display.max_columns', None)"
   ]
  },
  {
   "cell_type": "code",
   "execution_count": 7,
   "metadata": {},
   "outputs": [],
   "source": [
    "exercises_df = pd.read_csv(\"mentalport_challenge/mp_data-main/mp_data/exercises.csv\")\n",
    "exerciseResults_df = pd.read_csv(\"mentalport_challenge/mp_data-main/mp_data/exerciseResults.csv\")\n",
    "users_df = pd.read_csv(\"mentalport_challenge/mp_data-main/mp_data/users.csv\")"
   ]
  },
  {
   "cell_type": "code",
   "execution_count": 67,
   "metadata": {},
   "outputs": [],
   "source": [
    "def getUser(df):\n",
    "    df[\"__key__user\"] = exerciseResults_df[\"__key__\"].apply(lambda x:\n",
    "        json.loads(x)[\"__key__\"][\"path\"].replace(\" \", \"\").replace(\"\\\"\", \"\").split(\",\")[1]\n",
    "    )\n",
    "    return df[\"__key__user\"]\n",
    "\n",
    "# def getExercise(df):\n",
    "#     df[\"__key__exercise\"] = exerciseResults_df[\"__key__\"].apply(lambda x:\n",
    "#         json.loads(x)[\"__key__\"][\"name\"]\n",
    "#     )\n",
    "#     return df[\"__key__exercise\"]   \n",
    "\n",
    "def getRating(df):\n",
    "    df[\"feedback\"] = exerciseResults_df[\"__key__\"].apply(lambda x:\n",
    "        json.loads(x)[\"__key__\"][\"path\"].replace(\" \", \"\").replace(\"\\\"\", \"\").split(\",\")[1]\n",
    "    )\n",
    "    return df[\"__key__user\"]\n"
   ]
  },
  {
   "cell_type": "code",
   "execution_count": 55,
   "metadata": {},
   "outputs": [],
   "source": [
    "users_df[\"__key__user\"] = getUser(users_df)\n",
    "\n",
    "exerciseResults_df[\"__key__user\"] = getUser(exerciseResults_df)\n",
    "exerciseResults_df[\"__key__exercise\"] = getExercise(exerciseResults_df)\n",
    "\n",
    "exercises_df[\"__key__exercise\"] = getExercise(exercises_df)\n",
    "\n"
   ]
  },
  {
   "cell_type": "code",
   "execution_count": 71,
   "metadata": {},
   "outputs": [
    {
     "name": "stdout",
     "output_type": "stream",
     "text": [
      "{\n",
      "  \"feedback\": {\n",
      "    \"moodRating\": null,\n",
      "    \"exerciseRating\": {\n",
      "      \"execution\": null,\n",
      "      \"satisfaction\": null,\n",
      "      \"__key__\": {\n",
      "        \"namespace\": \"\",\n",
      "        \"app\": \"\",\n",
      "        \"path\": \"\",\n",
      "        \"kind\": null,\n",
      "        \"name\": null,\n",
      "        \"id\": null\n",
      "      }\n",
      "    },\n",
      "    \"__key__\": {\n",
      "      \"namespace\": \"\",\n",
      "      \"app\": \"\",\n",
      "      \"path\": \"\",\n",
      "      \"kind\": null,\n",
      "      \"name\": null,\n",
      "      \"id\": null\n",
      "    }\n",
      "  }\n",
      "}\n"
     ]
    }
   ],
   "source": [
    "\n",
    "print(exerciseResults_df[\"feedback\"][0])\n"
   ]
  },
  {
   "cell_type": "code",
   "execution_count": null,
   "metadata": {},
   "outputs": [],
   "source": []
  }
 ],
 "metadata": {
  "kernelspec": {
   "display_name": "Python 3.9.10 64-bit",
   "language": "python",
   "name": "python3"
  },
  "language_info": {
   "codemirror_mode": {
    "name": "ipython",
    "version": 3
   },
   "file_extension": ".py",
   "mimetype": "text/x-python",
   "name": "python",
   "nbconvert_exporter": "python",
   "pygments_lexer": "ipython3",
   "version": "3.9.10"
  },
  "orig_nbformat": 4,
  "vscode": {
   "interpreter": {
    "hash": "453e59b997346832b8b464675f5c42a6d022616f3d6473b0c2c540035952836d"
   }
  }
 },
 "nbformat": 4,
 "nbformat_minor": 2
}
