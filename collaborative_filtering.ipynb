{
 "cells": [
  {
   "cell_type": "code",
   "execution_count": null,
   "outputs": [],
   "source": [
    "import pandas as pd\n",
    "import numpy as np\n",
    "import json\n",
    "import ast\n",
    "pd.set_option('display.max_columns', None)"
   ],
   "metadata": {
    "collapsed": false,
    "pycharm": {
     "name": "#%%\n"
    }
   }
  },
  {
   "cell_type": "code",
   "execution_count": null,
   "outputs": [],
   "source": [
    "exercises_df = pd.read_csv(\"C:\\\\Users\\\\roman\\PycharmProjects\\\\semester_3\\\\mentalport_challenge\\\\mp_data-main\\\\mp_data\\\\exercise-original.csv\")\n",
    "exerciseResults_df = pd.read_csv(\"C:\\\\Users\\\\roman\\PycharmProjects\\\\semester_3\\\\mentalport_challenge\\\\mp_data-main\\\\mp_data\\\\exerciseResults.csv\")\n",
    "users_df = pd.read_csv(\"C:\\\\Users\\\\roman\\PycharmProjects\\\\semester_3\\\\mentalport_challenge\\\\mp_data-main\\\\mp_data\\\\users.csv\")"
   ],
   "metadata": {
    "collapsed": false,
    "pycharm": {
     "name": "#%%\n"
    }
   }
  },
  {
   "cell_type": "code",
   "execution_count": null,
   "outputs": [],
   "source": [
    "def getUser(df):\n",
    "    df[\"__key__user\"] = exerciseResults_df[\"__key__\"].apply(lambda x:\n",
    "        json.loads(x)[\"__key__\"][\"path\"].replace(\" \", \"\").replace(\"\\\"\", \"\").split(\",\")[1]\n",
    "    )\n",
    "    return df[\"__key__user\"]\n",
    "\n",
    "# def getExercise(df):\n",
    "#     df[\"__key__exercise\"] = exerciseResults_df[\"__key__\"].apply(lambda x:\n",
    "#         json.loads(x)[\"__key__\"][\"name\"]\n",
    "#     )\n",
    "#     return df[\"__key__exercise\"]   \n",
    "\n",
    "def getRating(df):\n",
    "    df[\"feedback\"] = exerciseResults_df[\"feedback\"].apply(lambda x:\n",
    "        json.loads(x)[\"feedback\"][\"exerciseRating\"][\"satisfaction\"]\n",
    "    )\n",
    "    df[\"satisfaction\"] = df[\"feedback\"].apply(lambda x: \n",
    "        None if (x is None) else int(x[0])\n",
    "    )\n",
    "    return df[\"satisfaction\"]\n"
   ],
   "metadata": {
    "collapsed": false,
    "pycharm": {
     "name": "#%%\n"
    }
   }
  },
  {
   "cell_type": "code",
   "execution_count": null,
   "outputs": [],
   "source": [
    "users_df[\"__key__user\"] = getUser(users_df)\n",
    "\n",
    "exerciseResults_df[\"__key__user\"] = getUser(exerciseResults_df)\n",
    "exerciseResults_df[\"satisfaction\"] = getRating(exerciseResults_df)\n",
    "\n",
    "\n"
   ],
   "metadata": {
    "collapsed": false,
    "pycharm": {
     "name": "#%%\n"
    }
   }
  },
  {
   "cell_type": "code",
   "execution_count": null,
   "outputs": [],
   "source": [
    "ratings = exerciseResults_df[[\"__key__user\",\"exerciseId\" , \"satisfaction\"]]\n",
    "ratings\n",
    "\n",
    "\n"
   ],
   "metadata": {
    "collapsed": false,
    "pycharm": {
     "name": "#%%\n"
    }
   }
  },
  {
   "cell_type": "code",
   "execution_count": null,
   "outputs": [],
   "source": [
    "ratings_f2 = ratings.pivot(index = 'exerciseId', columns ='__key__user', values = 'satisfaction').fillna(0)\n",
    "ratings_f2.head(3)"
   ],
   "metadata": {
    "collapsed": false,
    "pycharm": {
     "name": "#%%\n"
    }
   }
  },
  {
   "cell_type": "code",
   "execution_count": null,
   "outputs": [],
   "source": [
    "\n"
   ],
   "metadata": {
    "collapsed": false,
    "pycharm": {
     "name": "#%%\n"
    }
   }
  }
 ],
 "metadata": {
  "kernelspec": {
   "display_name": "Python 3.9.10 64-bit",
   "language": "python",
   "name": "python3"
  },
  "language_info": {
   "codemirror_mode": {
    "name": "ipython",
    "version": 3
   },
   "file_extension": ".py",
   "mimetype": "text/x-python",
   "name": "python",
   "nbconvert_exporter": "python",
   "pygments_lexer": "ipython3",
   "version": "3.9.10"
  },
  "orig_nbformat": 4,
  "vscode": {
   "interpreter": {
    "hash": "453e59b997346832b8b464675f5c42a6d022616f3d6473b0c2c540035952836d"
   }
  }
 },
 "nbformat": 4,
 "nbformat_minor": 2
}