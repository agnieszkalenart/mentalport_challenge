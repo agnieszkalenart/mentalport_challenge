{
 "cells": [
  {
   "cell_type": "code",
   "execution_count": 3,
   "metadata": {},
   "outputs": [],
   "source": [
    "import pandas as pd\n",
    "import numpy as np\n",
    "import json\n",
    "import ast\n",
    "pd.set_option('display.max_columns', None)"
   ]
  },
  {
   "cell_type": "code",
   "execution_count": 62,
   "metadata": {},
   "outputs": [],
   "source": [
    "exercises_df = pd.read_csv(\"mp_data-main/mp_data/exercise-original.csv\")\n",
    "exerciseResults_df = pd.read_csv(\"mp_data-main/mp_data/exerciseResults.csv\")\n",
    "users_df = pd.read_csv(\"mp_data-main/mp_data/users.csv\")"
   ]
  },
  {
   "cell_type": "code",
   "execution_count": 63,
   "metadata": {},
   "outputs": [],
   "source": [
    "def getUser(df):\n",
    "    df[\"__key__user\"] = exerciseResults_df[\"__key__\"].apply(lambda x:\n",
    "        json.loads(x)[\"__key__\"][\"path\"].replace(\" \", \"\").replace(\"\\\"\", \"\").split(\",\")[1]\n",
    "    )\n",
    "    return df[\"__key__user\"]\n",
    "\n",
    "# def getExercise(df):\n",
    "#     df[\"__key__exercise\"] = exerciseResults_df[\"__key__\"].apply(lambda x:\n",
    "#         json.loads(x)[\"__key__\"][\"name\"]\n",
    "#     )\n",
    "#     return df[\"__key__exercise\"]   \n",
    "\n",
    "def getRating(df):\n",
    "    df[\"feedback\"] = exerciseResults_df[\"feedback\"].apply(lambda x:\n",
    "        json.loads(x)[\"feedback\"][\"exerciseRating\"][\"satisfaction\"]\n",
    "    )\n",
    "    df[\"satisfaction\"] = df[\"feedback\"].apply(lambda x: \n",
    "        None if (x is None) else int(x[0])\n",
    "    )\n",
    "    return df[\"satisfaction\"]\n"
   ]
  },
  {
   "cell_type": "code",
   "execution_count": 64,
   "metadata": {},
   "outputs": [],
   "source": [
    "users_df[\"__key__user\"] = getUser(users_df)\n",
    "\n",
    "exerciseResults_df[\"__key__user\"] = getUser(exerciseResults_df)\n",
    "exerciseResults_df[\"satisfaction\"] = getRating(exerciseResults_df)\n",
    "\n",
    "\n"
   ]
  },
  {
   "cell_type": "code",
   "execution_count": 66,
   "metadata": {},
   "outputs": [
    {
     "data": {
      "text/html": [
       "<div>\n",
       "<style scoped>\n",
       "    .dataframe tbody tr th:only-of-type {\n",
       "        vertical-align: middle;\n",
       "    }\n",
       "\n",
       "    .dataframe tbody tr th {\n",
       "        vertical-align: top;\n",
       "    }\n",
       "\n",
       "    .dataframe thead th {\n",
       "        text-align: right;\n",
       "    }\n",
       "</style>\n",
       "<table border=\"1\" class=\"dataframe\">\n",
       "  <thead>\n",
       "    <tr style=\"text-align: right;\">\n",
       "      <th></th>\n",
       "      <th>__key__user</th>\n",
       "      <th>exerciseId</th>\n",
       "      <th>satisfaction</th>\n",
       "    </tr>\n",
       "  </thead>\n",
       "  <tbody>\n",
       "    <tr>\n",
       "      <th>0</th>\n",
       "      <td>Bq43ywM9k3bFXVtHkgs7Ut4ISqE3</td>\n",
       "      <td>1.31</td>\n",
       "      <td>NaN</td>\n",
       "    </tr>\n",
       "    <tr>\n",
       "      <th>1</th>\n",
       "      <td>FkpxsnbsaeX8PCN16qUGAD8TC9v1</td>\n",
       "      <td>1.28</td>\n",
       "      <td>NaN</td>\n",
       "    </tr>\n",
       "    <tr>\n",
       "      <th>2</th>\n",
       "      <td>FkpxsnbsaeX8PCN16qUGAD8TC9v1</td>\n",
       "      <td>1.31</td>\n",
       "      <td>NaN</td>\n",
       "    </tr>\n",
       "    <tr>\n",
       "      <th>3</th>\n",
       "      <td>FkpxsnbsaeX8PCN16qUGAD8TC9v1</td>\n",
       "      <td>1.6</td>\n",
       "      <td>NaN</td>\n",
       "    </tr>\n",
       "    <tr>\n",
       "      <th>4</th>\n",
       "      <td>FkpxsnbsaeX8PCN16qUGAD8TC9v1</td>\n",
       "      <td>1.53</td>\n",
       "      <td>NaN</td>\n",
       "    </tr>\n",
       "    <tr>\n",
       "      <th>...</th>\n",
       "      <td>...</td>\n",
       "      <td>...</td>\n",
       "      <td>...</td>\n",
       "    </tr>\n",
       "    <tr>\n",
       "      <th>398</th>\n",
       "      <td>fHrkNtaGFIWyO2t5BPfa1vfU76R2</td>\n",
       "      <td>1.25</td>\n",
       "      <td>5.0</td>\n",
       "    </tr>\n",
       "    <tr>\n",
       "      <th>399</th>\n",
       "      <td>qnO4GQuFhChzPaD1bJOKJp9kURo2</td>\n",
       "      <td>1.21</td>\n",
       "      <td>5.0</td>\n",
       "    </tr>\n",
       "    <tr>\n",
       "      <th>400</th>\n",
       "      <td>sBiEjDKG8AeMsSt6d3fzaBUNiEr1</td>\n",
       "      <td>1.8</td>\n",
       "      <td>5.0</td>\n",
       "    </tr>\n",
       "    <tr>\n",
       "      <th>401</th>\n",
       "      <td>sBiEjDKG8AeMsSt6d3fzaBUNiEr1</td>\n",
       "      <td>1.74.2</td>\n",
       "      <td>5.0</td>\n",
       "    </tr>\n",
       "    <tr>\n",
       "      <th>402</th>\n",
       "      <td>ymYDXD2opve4fA198aYRyNIJINN2</td>\n",
       "      <td>1.50</td>\n",
       "      <td>5.0</td>\n",
       "    </tr>\n",
       "  </tbody>\n",
       "</table>\n",
       "<p>403 rows × 3 columns</p>\n",
       "</div>"
      ],
      "text/plain": [
       "                      __key__user exerciseId  satisfaction\n",
       "0    Bq43ywM9k3bFXVtHkgs7Ut4ISqE3       1.31           NaN\n",
       "1    FkpxsnbsaeX8PCN16qUGAD8TC9v1       1.28           NaN\n",
       "2    FkpxsnbsaeX8PCN16qUGAD8TC9v1       1.31           NaN\n",
       "3    FkpxsnbsaeX8PCN16qUGAD8TC9v1        1.6           NaN\n",
       "4    FkpxsnbsaeX8PCN16qUGAD8TC9v1       1.53           NaN\n",
       "..                            ...        ...           ...\n",
       "398  fHrkNtaGFIWyO2t5BPfa1vfU76R2       1.25           5.0\n",
       "399  qnO4GQuFhChzPaD1bJOKJp9kURo2       1.21           5.0\n",
       "400  sBiEjDKG8AeMsSt6d3fzaBUNiEr1        1.8           5.0\n",
       "401  sBiEjDKG8AeMsSt6d3fzaBUNiEr1     1.74.2           5.0\n",
       "402  ymYDXD2opve4fA198aYRyNIJINN2       1.50           5.0\n",
       "\n",
       "[403 rows x 3 columns]"
      ]
     },
     "execution_count": 66,
     "metadata": {},
     "output_type": "execute_result"
    }
   ],
   "source": [
    "ratings = exerciseResults_df[[\"__key__user\",\"exerciseId\" , \"satisfaction\"]]\n",
    "ratings"
   ]
  },
  {
   "cell_type": "code",
   "execution_count": 67,
   "metadata": {},
   "outputs": [
    {
     "ename": "ValueError",
     "evalue": "Index contains duplicate entries, cannot reshape",
     "output_type": "error",
     "traceback": [
      "\u001b[1;31m---------------------------------------------------------------------------\u001b[0m",
      "\u001b[1;31mValueError\u001b[0m                                Traceback (most recent call last)",
      "\u001b[1;32md:\\Programme\\source\\repos\\mentalport_hackathon\\mentalport_challenge\\collaborative_filtering.ipynb Zelle 6\u001b[0m in \u001b[0;36m<cell line: 1>\u001b[1;34m()\u001b[0m\n\u001b[1;32m----> <a href='vscode-notebook-cell:/d%3A/Programme/source/repos/mentalport_hackathon/mentalport_challenge/collaborative_filtering.ipynb#W6sZmlsZQ%3D%3D?line=0'>1</a>\u001b[0m ratings_f2 \u001b[39m=\u001b[39m ratings\u001b[39m.\u001b[39;49mpivot(index \u001b[39m=\u001b[39;49m \u001b[39m'\u001b[39;49m\u001b[39mexerciseId\u001b[39;49m\u001b[39m'\u001b[39;49m, columns \u001b[39m=\u001b[39;49m\u001b[39m'\u001b[39;49m\u001b[39m__key__user\u001b[39;49m\u001b[39m'\u001b[39;49m, values \u001b[39m=\u001b[39;49m \u001b[39m'\u001b[39;49m\u001b[39msatisfaction\u001b[39;49m\u001b[39m'\u001b[39;49m)\u001b[39m.\u001b[39mfillna(\u001b[39m0\u001b[39m)\n\u001b[0;32m      <a href='vscode-notebook-cell:/d%3A/Programme/source/repos/mentalport_hackathon/mentalport_challenge/collaborative_filtering.ipynb#W6sZmlsZQ%3D%3D?line=1'>2</a>\u001b[0m ratings_f2\u001b[39m.\u001b[39mhead(\u001b[39m3\u001b[39m)\n",
      "File \u001b[1;32mc:\\Users\\janpa\\AppData\\Local\\Programs\\Python\\Python39\\lib\\site-packages\\pandas\\core\\frame.py:7870\u001b[0m, in \u001b[0;36mDataFrame.pivot\u001b[1;34m(self, index, columns, values)\u001b[0m\n\u001b[0;32m   7865\u001b[0m \u001b[39m@Substitution\u001b[39m(\u001b[39m\"\u001b[39m\u001b[39m\"\u001b[39m)\n\u001b[0;32m   7866\u001b[0m \u001b[39m@Appender\u001b[39m(_shared_docs[\u001b[39m\"\u001b[39m\u001b[39mpivot\u001b[39m\u001b[39m\"\u001b[39m])\n\u001b[0;32m   7867\u001b[0m \u001b[39mdef\u001b[39;00m \u001b[39mpivot\u001b[39m(\u001b[39mself\u001b[39m, index\u001b[39m=\u001b[39m\u001b[39mNone\u001b[39;00m, columns\u001b[39m=\u001b[39m\u001b[39mNone\u001b[39;00m, values\u001b[39m=\u001b[39m\u001b[39mNone\u001b[39;00m) \u001b[39m-\u001b[39m\u001b[39m>\u001b[39m DataFrame:\n\u001b[0;32m   7868\u001b[0m     \u001b[39mfrom\u001b[39;00m \u001b[39mpandas\u001b[39;00m\u001b[39m.\u001b[39;00m\u001b[39mcore\u001b[39;00m\u001b[39m.\u001b[39;00m\u001b[39mreshape\u001b[39;00m\u001b[39m.\u001b[39;00m\u001b[39mpivot\u001b[39;00m \u001b[39mimport\u001b[39;00m pivot\n\u001b[1;32m-> 7870\u001b[0m     \u001b[39mreturn\u001b[39;00m pivot(\u001b[39mself\u001b[39;49m, index\u001b[39m=\u001b[39;49mindex, columns\u001b[39m=\u001b[39;49mcolumns, values\u001b[39m=\u001b[39;49mvalues)\n",
      "File \u001b[1;32mc:\\Users\\janpa\\AppData\\Local\\Programs\\Python\\Python39\\lib\\site-packages\\pandas\\core\\reshape\\pivot.py:520\u001b[0m, in \u001b[0;36mpivot\u001b[1;34m(data, index, columns, values)\u001b[0m\n\u001b[0;32m    518\u001b[0m     \u001b[39melse\u001b[39;00m:\n\u001b[0;32m    519\u001b[0m         indexed \u001b[39m=\u001b[39m data\u001b[39m.\u001b[39m_constructor_sliced(data[values]\u001b[39m.\u001b[39m_values, index\u001b[39m=\u001b[39mmultiindex)\n\u001b[1;32m--> 520\u001b[0m \u001b[39mreturn\u001b[39;00m indexed\u001b[39m.\u001b[39;49munstack(columns_listlike)\n",
      "File \u001b[1;32mc:\\Users\\janpa\\AppData\\Local\\Programs\\Python\\Python39\\lib\\site-packages\\pandas\\core\\series.py:4157\u001b[0m, in \u001b[0;36mSeries.unstack\u001b[1;34m(self, level, fill_value)\u001b[0m\n\u001b[0;32m   4114\u001b[0m \u001b[39m\"\"\"\u001b[39;00m\n\u001b[0;32m   4115\u001b[0m \u001b[39mUnstack, also known as pivot, Series with MultiIndex to produce DataFrame.\u001b[39;00m\n\u001b[0;32m   4116\u001b[0m \n\u001b[1;32m   (...)\u001b[0m\n\u001b[0;32m   4153\u001b[0m \u001b[39mb    2    4\u001b[39;00m\n\u001b[0;32m   4154\u001b[0m \u001b[39m\"\"\"\u001b[39;00m\n\u001b[0;32m   4155\u001b[0m \u001b[39mfrom\u001b[39;00m \u001b[39mpandas\u001b[39;00m\u001b[39m.\u001b[39;00m\u001b[39mcore\u001b[39;00m\u001b[39m.\u001b[39;00m\u001b[39mreshape\u001b[39;00m\u001b[39m.\u001b[39;00m\u001b[39mreshape\u001b[39;00m \u001b[39mimport\u001b[39;00m unstack\n\u001b[1;32m-> 4157\u001b[0m \u001b[39mreturn\u001b[39;00m unstack(\u001b[39mself\u001b[39;49m, level, fill_value)\n",
      "File \u001b[1;32mc:\\Users\\janpa\\AppData\\Local\\Programs\\Python\\Python39\\lib\\site-packages\\pandas\\core\\reshape\\reshape.py:491\u001b[0m, in \u001b[0;36munstack\u001b[1;34m(obj, level, fill_value)\u001b[0m\n\u001b[0;32m    489\u001b[0m \u001b[39mif\u001b[39;00m is_1d_only_ea_dtype(obj\u001b[39m.\u001b[39mdtype):\n\u001b[0;32m    490\u001b[0m     \u001b[39mreturn\u001b[39;00m _unstack_extension_series(obj, level, fill_value)\n\u001b[1;32m--> 491\u001b[0m unstacker \u001b[39m=\u001b[39m _Unstacker(\n\u001b[0;32m    492\u001b[0m     obj\u001b[39m.\u001b[39;49mindex, level\u001b[39m=\u001b[39;49mlevel, constructor\u001b[39m=\u001b[39;49mobj\u001b[39m.\u001b[39;49m_constructor_expanddim\n\u001b[0;32m    493\u001b[0m )\n\u001b[0;32m    494\u001b[0m \u001b[39mreturn\u001b[39;00m unstacker\u001b[39m.\u001b[39mget_result(\n\u001b[0;32m    495\u001b[0m     obj\u001b[39m.\u001b[39m_values, value_columns\u001b[39m=\u001b[39m\u001b[39mNone\u001b[39;00m, fill_value\u001b[39m=\u001b[39mfill_value\n\u001b[0;32m    496\u001b[0m )\n",
      "File \u001b[1;32mc:\\Users\\janpa\\AppData\\Local\\Programs\\Python\\Python39\\lib\\site-packages\\pandas\\core\\reshape\\reshape.py:140\u001b[0m, in \u001b[0;36m_Unstacker.__init__\u001b[1;34m(self, index, level, constructor)\u001b[0m\n\u001b[0;32m    133\u001b[0m \u001b[39mif\u001b[39;00m num_cells \u001b[39m>\u001b[39m np\u001b[39m.\u001b[39miinfo(np\u001b[39m.\u001b[39mint32)\u001b[39m.\u001b[39mmax:\n\u001b[0;32m    134\u001b[0m     warnings\u001b[39m.\u001b[39mwarn(\n\u001b[0;32m    135\u001b[0m         \u001b[39mf\u001b[39m\u001b[39m\"\u001b[39m\u001b[39mThe following operation may generate \u001b[39m\u001b[39m{\u001b[39;00mnum_cells\u001b[39m}\u001b[39;00m\u001b[39m cells \u001b[39m\u001b[39m\"\u001b[39m\n\u001b[0;32m    136\u001b[0m         \u001b[39mf\u001b[39m\u001b[39m\"\u001b[39m\u001b[39min the resulting pandas object.\u001b[39m\u001b[39m\"\u001b[39m,\n\u001b[0;32m    137\u001b[0m         PerformanceWarning,\n\u001b[0;32m    138\u001b[0m     )\n\u001b[1;32m--> 140\u001b[0m \u001b[39mself\u001b[39;49m\u001b[39m.\u001b[39;49m_make_selectors()\n",
      "File \u001b[1;32mc:\\Users\\janpa\\AppData\\Local\\Programs\\Python\\Python39\\lib\\site-packages\\pandas\\core\\reshape\\reshape.py:192\u001b[0m, in \u001b[0;36m_Unstacker._make_selectors\u001b[1;34m(self)\u001b[0m\n\u001b[0;32m    189\u001b[0m mask\u001b[39m.\u001b[39mput(selector, \u001b[39mTrue\u001b[39;00m)\n\u001b[0;32m    191\u001b[0m \u001b[39mif\u001b[39;00m mask\u001b[39m.\u001b[39msum() \u001b[39m<\u001b[39m \u001b[39mlen\u001b[39m(\u001b[39mself\u001b[39m\u001b[39m.\u001b[39mindex):\n\u001b[1;32m--> 192\u001b[0m     \u001b[39mraise\u001b[39;00m \u001b[39mValueError\u001b[39;00m(\u001b[39m\"\u001b[39m\u001b[39mIndex contains duplicate entries, cannot reshape\u001b[39m\u001b[39m\"\u001b[39m)\n\u001b[0;32m    194\u001b[0m \u001b[39mself\u001b[39m\u001b[39m.\u001b[39mgroup_index \u001b[39m=\u001b[39m comp_index\n\u001b[0;32m    195\u001b[0m \u001b[39mself\u001b[39m\u001b[39m.\u001b[39mmask \u001b[39m=\u001b[39m mask\n",
      "\u001b[1;31mValueError\u001b[0m: Index contains duplicate entries, cannot reshape"
     ]
    }
   ],
   "source": [
    "ratings_f2 = ratings.pivot(index = 'exerciseId', columns ='__key__user', values = 'satisfaction').fillna(0)\n",
    "ratings_f2.head(3)"
   ]
  },
  {
   "cell_type": "code",
   "execution_count": null,
   "metadata": {},
   "outputs": [],
   "source": []
  }
 ],
 "metadata": {
  "kernelspec": {
   "display_name": "Python 3.9.10 64-bit",
   "language": "python",
   "name": "python3"
  },
  "language_info": {
   "codemirror_mode": {
    "name": "ipython",
    "version": 3
   },
   "file_extension": ".py",
   "mimetype": "text/x-python",
   "name": "python",
   "nbconvert_exporter": "python",
   "pygments_lexer": "ipython3",
   "version": "3.9.10"
  },
  "orig_nbformat": 4,
  "vscode": {
   "interpreter": {
    "hash": "453e59b997346832b8b464675f5c42a6d022616f3d6473b0c2c540035952836d"
   }
  }
 },
 "nbformat": 4,
 "nbformat_minor": 2
}
