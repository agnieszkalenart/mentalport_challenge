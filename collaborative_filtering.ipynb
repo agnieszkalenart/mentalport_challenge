{
 "cells": [
  {
   "cell_type": "code",
   "execution_count": 3,
   "metadata": {},
   "outputs": [],
   "source": [
    "import pandas as pd\n",
    "import numpy as np\n",
    "import json\n",
    "import ast\n",
    "pd.set_option('display.max_columns', None)"
   ]
  },
  {
   "cell_type": "code",
   "execution_count": 4,
   "metadata": {},
   "outputs": [],
   "source": [
    "#roman paths\n",
    "# C:\\\\Users\\\\roman\\PycharmProjects\\\\semester_3\\\\mentalport_challenge\\\\mp_data-main\\\\mp_data\\\\exercises.csv\n",
    "# C:\\\\Users\\\\roman\\PycharmProjects\\\\semester_3\\\\mentalport_challenge\\\\mp_data-main\\\\mp_data\\\\exerciseResults.csv\n",
    "# C:\\\\Users\\\\roman\\PycharmProjects\\\\semester_3\\\\mentalport_challenge\\\\mp_data-main\\\\mp_data\\\\users.csv\n",
    "\n",
    "# jp paths\n",
    "# mentalport_challenge/mp_data-main/mp_data/exercises.csv\n",
    "# mentalport_challenge/mp_data-main/mp_data/exerciseResults.csv\n",
    "# mentalport_challenge/mp_data-main/mp_data/users.csv\n",
    "\n",
    "\n",
    "\n",
    "exercises_df = pd.read_csv(\"C:\\\\Users\\\\roman\\PycharmProjects\\\\semester_3\\\\mentalport_challenge\\\\mp_data-main\\\\mp_data\\\\exercises.csv\")\n",
    "exerciseResults_df = pd.read_csv(\"C:\\\\Users\\\\roman\\PycharmProjects\\\\semester_3\\\\mentalport_challenge\\\\mp_data-main\\\\mp_data\\\\exerciseResults.csv\")\n",
    "users_df = pd.read_csv(\"C:\\\\Users\\\\roman\\PycharmProjects\\\\semester_3\\\\mentalport_challenge\\\\mp_data-main\\\\mp_data\\\\users.csv\")"
   ]
  },
  {
   "cell_type": "code",
   "execution_count": 5,
   "metadata": {},
   "outputs": [],
   "source": [
    "def getUser(df):\n",
    "    df[\"__key__user\"] = exerciseResults_df[\"__key__\"].apply(lambda x:\n",
    "        json.loads(x)[\"__key__\"][\"path\"].replace(\" \", \"\").replace(\"\\\"\", \"\").split(\",\")[1]\n",
    "    )\n",
    "    return df[\"__key__user\"]\n",
    "\n",
    "# def getExercise(df):\n",
    "#     df[\"__key__exercise\"] = exerciseResults_df[\"__key__\"].apply(lambda x:\n",
    "#         json.loads(x)[\"__key__\"][\"name\"]\n",
    "#     )\n",
    "#     return df[\"__key__exercise\"]   \n",
    "\n",
    "def getRating(df):\n",
    "    df[\"feedback\"] = exerciseResults_df[\"feedback\"].apply(lambda x:\n",
    "        json.loads(x)[\"feedback\"][\"exerciseRating\"][\"satisfaction\"]\n",
    "    )\n",
    "    df[\"satisfaction\"] = df[\"feedback\"].apply(lambda x:\n",
    "        None if (x is None) else x[0]\n",
    "    )\n",
    "    return df[\"satisfaction\"]\n"
   ]
  },
  {
   "cell_type": "code",
   "execution_count": 8,
   "metadata": {},
   "outputs": [],
   "source": [
    "users_df[\"__key__user\"] = getUser(users_df)\n",
    "\n",
    "exerciseResults_df[\"__key__user\"] = getUser(exerciseResults_df)\n",
    "exerciseResults_df[\"satisfaction\"] = getRating(exerciseResults_df)\n",
    "\n",
    "\n",
    "#exerciseResults_df[\"__key__exercise\"] = getExercise(exerciseResults_df)\n",
    "\n",
    "#exercises_df[\"__key__exercise\"] = getExercise(exercises_df)\n",
    "\n"
   ]
  },
  {
   "cell_type": "code",
   "execution_count": 7,
   "metadata": {},
   "outputs": [
    {
     "name": "stdout",
     "output_type": "stream",
     "text": [
      "{\r\n",
      "  \"feedback\": {\r\n",
      "    \"moodRating\": null,\r\n",
      "    \"exerciseRating\": {\r\n",
      "      \"execution\": null,\r\n",
      "      \"satisfaction\": null,\r\n",
      "      \"__key__\": {\r\n",
      "        \"namespace\": \"\",\r\n",
      "        \"app\": \"\",\r\n",
      "        \"path\": \"\",\r\n",
      "        \"kind\": null,\r\n",
      "        \"name\": null,\r\n",
      "        \"id\": null\r\n",
      "      }\r\n",
      "    },\r\n",
      "    \"__key__\": {\r\n",
      "      \"namespace\": \"\",\r\n",
      "      \"app\": \"\",\r\n",
      "      \"path\": \"\",\r\n",
      "      \"kind\": null,\r\n",
      "      \"name\": null,\r\n",
      "      \"id\": null\r\n",
      "    }\r\n",
      "  }\r\n",
      "}\n"
     ]
    }
   ],
   "source": [
    "\n",
    "print(exerciseResults_df[\"feedback\"][0])\n"
   ]
  },
  {
   "cell_type": "code",
   "execution_count": 12,
   "metadata": {},
   "outputs": [
    {
     "data": {
      "text/plain": "<Figure size 432x288 with 1 Axes>",
      "image/png": "[encoded data removed]"
     },
     "metadata": {
      "needs_background": "light"
     },
     "output_type": "display_data"
    }
   ],
   "source": [
    "#exploration\n",
    "import numpy as np\n",
    "import seaborn as sns\n",
    "import matplotlib.pyplot as plt\n",
    "\n",
    "exerciseResults_df.groupby(['__key__user']).size().hist(bins=20, grid=False, xlabelsize=12, ylabelsize=12)\n",
    "plt.xlim([0,150])\n",
    "plt.xlabel(\"Number of movies being rated\", fontsize=15)\n",
    "plt.ylabel(\"Frequency of users\",fontsize=15)\n",
    "plt.show()"
   ]
  }
 ],
 "metadata": {
  "kernelspec": {
   "display_name": "Python 3.9.10 64-bit",
   "language": "python",
   "name": "python3"
  },
  "language_info": {
   "codemirror_mode": {
    "name": "ipython",
    "version": 3
   },
   "file_extension": ".py",
   "mimetype": "text/x-python",
   "name": "python",
   "nbconvert_exporter": "python",
   "pygments_lexer": "ipython3",
   "version": "3.9.10"
  },
  "orig_nbformat": 4,
  "vscode": {
   "interpreter": {
    "hash": "453e59b997346832b8b464675f5c42a6d022616f3d6473b0c2c540035952836d"
   }
  }
 },
 "nbformat": 4,
 "nbformat_minor": 2
}